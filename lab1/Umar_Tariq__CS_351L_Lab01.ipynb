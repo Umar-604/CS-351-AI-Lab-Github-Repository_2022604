{
  "nbformat": 4,
  "nbformat_minor": 0,
  "metadata": {
    "colab": {
      "provenance": [],
      "toc_visible": true,
      "authorship_tag": "ABX9TyOHeavWMYoG0gcsAJwuH91m",
      "include_colab_link": true
    },
    "kernelspec": {
      "name": "python3",
      "display_name": "Python 3"
    },
    "language_info": {
      "name": "python"
    }
  },
  "cells": [
    {
      "cell_type": "markdown",
      "metadata": {
        "id": "view-in-github",
        "colab_type": "text"
      },
      "source": [
        "<a href=\"https://colab.research.google.com/github/Umar-604/CS-351-AI-Lab-Github-Repository_2022604/blob/main/Umar_Tariq__CS_351L_Lab01.ipynb\" target=\"_parent\"><img src=\"https://colab.research.google.com/assets/colab-badge.svg\" alt=\"Open In Colab\"/></a>"
      ]
    },
    {
      "cell_type": "markdown",
      "source": [
        "# LAB 1\n",
        "\n",
        "**Task 1: AI Guessing Game using Depth First Search (DFS):**\n"
      ],
      "metadata": {
        "id": "n6Z2w5vRAi0f"
      }
    },
    {
      "cell_type": "code",
      "source": [
        "import random\n",
        "\n",
        "\n",
        "def dfs(low, high, attempts):\n",
        "    # AI makes a random guess within the given range\n",
        "    guess = random.randint(low, high)\n",
        "    print(\"Think of number between 1 and 100, and I (the AI) will try to guess it.\")\n",
        "\n",
        "    # Output the AI's current guess\n",
        "    print(f\"AI's guess is: {guess}\")\n",
        "\n",
        "    # Increment the number of attempts\n",
        "    attempts += 1\n",
        "    # Get feedback from the user\n",
        "    feedback = input(\"Enter 'h' if too high, 'l' if too low, or 'c' if correct: \").lower()\n",
        "\n",
        "    if feedback == 'c':\n",
        "        # If correct, print the number of attempts and end the game\n",
        "        print(f\"I (AI) guessed the number in {attempts} attempts!\")\n",
        "        return\n",
        "    elif feedback == 'h':\n",
        "        # If guess is too high, search in the lower half\n",
        "        dfs(low, guess - 1, attempts)\n",
        "    elif feedback == 'l':\n",
        "        # If guess is too low, search in the upper half\n",
        "        dfs(guess + 1, high, attempts)\n",
        "\n",
        "\n",
        "def dfs_game():\n",
        "    # Initialize range and attempt count\n",
        "    low = 1\n",
        "    high = 100\n",
        "    attempts = 0\n",
        "    # Start the guessing game\n",
        "    dfs(low, high, attempts)\n",
        "\n",
        "\n",
        "# Run the game\n",
        "dfs_game()\n"
      ],
      "metadata": {
        "id": "mXq9cQYyA0bQ",
        "colab": {
          "base_uri": "https://localhost:8080/"
        },
        "outputId": "996c1dd3-bd85-4ac2-b8ae-542399392195"
      },
      "execution_count": 1,
      "outputs": [
        {
          "output_type": "stream",
          "name": "stdout",
          "text": [
            "Think of number between 1 and 100, and I (the AI) will try to guess it.\n",
            "AI's guess is: 89\n",
            "Enter 'h' if too high, 'l' if too low, or 'c' if correct: h\n",
            "Think of number between 1 and 100, and I (the AI) will try to guess it.\n",
            "AI's guess is: 37\n",
            "Enter 'h' if too high, 'l' if too low, or 'c' if correct: l\n",
            "Think of number between 1 and 100, and I (the AI) will try to guess it.\n",
            "AI's guess is: 67\n",
            "Enter 'h' if too high, 'l' if too low, or 'c' if correct: h\n",
            "Think of number between 1 and 100, and I (the AI) will try to guess it.\n",
            "AI's guess is: 43\n",
            "Enter 'h' if too high, 'l' if too low, or 'c' if correct: c\n",
            "I (AI) guessed the number in 4 attempts!\n"
          ]
        }
      ]
    },
    {
      "cell_type": "markdown",
      "source": [
        "\n",
        "\n",
        "**Task 2: AI Guesiing Game using Breadth Frist Search (BFS):**"
      ],
      "metadata": {
        "id": "ltXG9cD-A9d8"
      }
    },
    {
      "cell_type": "code",
      "source": [
        "import random\n",
        "from collections import deque\n",
        "\n",
        "\n",
        "def bfs_game(low, high):\n",
        "    attempts = 0\n",
        "    # Initialize the queue with the full range of possible numbers\n",
        "    queue = deque([(low, high)])\n",
        "\n",
        "    print(\"Think of a number between 1 and 100, and I (the AI) will try to guess it.\")\n",
        "\n",
        "    while queue:\n",
        "        # Get the current range from the queue\n",
        "        current_low, current_high = queue.popleft()\n",
        "        # Make a random guess within the current range\n",
        "        guess = random.randint(current_low, current_high)\n",
        "        print(f\"AI's guess is: {guess}\")\n",
        "\n",
        "        # Increment the number of attempts\n",
        "        attempts += 1\n",
        "        # Get feedback from the user\n",
        "        feedback = input(\"Enter 'h' if too high, 'l' if too low, or 'c' if correct: \").lower()\n",
        "\n",
        "        if feedback == 'c':\n",
        "            # If the guess is correct, print the number of attempts and end the game\n",
        "            print(f\"I (AI) guessed the number in {attempts} attempts!\")\n",
        "            return\n",
        "        elif feedback == 'h':\n",
        "            # If the guess is too high, add the lower half of the range to the queue\n",
        "            if current_low <= guess - 1:  # Ensure the range is valid\n",
        "                queue.append((current_low, guess - 1))\n",
        "        elif feedback == 'l':\n",
        "            # If the guess is too low, add the upper half of the range to the queue\n",
        "            if guess + 1 <= current_high:  # Ensure the range is valid\n",
        "                queue.append((guess + 1, current_high))\n",
        "\n",
        "\n",
        "# Start the guessing game with the range from 1 to 100\n",
        "bfs_game(1, 100)\n"
      ],
      "metadata": {
        "id": "fq-bSEavBaa_",
        "colab": {
          "base_uri": "https://localhost:8080/"
        },
        "outputId": "20ae68ce-5b91-4c20-9d31-e648598ca6d8"
      },
      "execution_count": 2,
      "outputs": [
        {
          "output_type": "stream",
          "name": "stdout",
          "text": [
            "Think of a number between 1 and 100, and I (the AI) will try to guess it.\n",
            "AI's guess is: 28\n",
            "Enter 'h' if too high, 'l' if too low, or 'c' if correct: l\n",
            "AI's guess is: 74\n",
            "Enter 'h' if too high, 'l' if too low, or 'c' if correct: h\n",
            "AI's guess is: 73\n",
            "Enter 'h' if too high, 'l' if too low, or 'c' if correct: h\n",
            "AI's guess is: 53\n",
            "Enter 'h' if too high, 'l' if too low, or 'c' if correct: h\n",
            "AI's guess is: 29\n",
            "Enter 'h' if too high, 'l' if too low, or 'c' if correct: l\n",
            "AI's guess is: 50\n",
            "Enter 'h' if too high, 'l' if too low, or 'c' if correct: c\n",
            "I (AI) guessed the number in 6 attempts!\n"
          ]
        }
      ]
    },
    {
      "cell_type": "markdown",
      "source": [
        "**Task 3: AI Guessing Game using Uniform Cost Search Algorithm (UCS):**"
      ],
      "metadata": {
        "id": "MCJHsmcfCKyX"
      }
    },
    {
      "cell_type": "code",
      "source": [
        "import random\n",
        "import heapq\n",
        "\n",
        "def uniform_cost_search(low, high):\n",
        "    print(\"Think of a number between 1 and 100, and I (the AI) will try to guess it.\")\n",
        "\n",
        "    # Priority queue to store (cost, low, high, current_guess)\n",
        "    priority_queue = [(0, low, high)]\n",
        "\n",
        "    while priority_queue:\n",
        "        # Get the node with the lowest cost\n",
        "        cost, low, high = heapq.heappop(priority_queue)\n",
        "\n",
        "        # Make a guess in the current range\n",
        "        guess = random.randint(low, high)\n",
        "        print(f\"AI's guess is: {guess}\")\n",
        "\n",
        "        feedback = input(\"Enter 'h' if too high, 'l' if too low, or 'c' if correct: \").lower()\n",
        "\n",
        "        if feedback == 'c':\n",
        "            print(f\"I (AI) guessed the number in {cost + 1} attempts!\")\n",
        "            return\n",
        "        elif feedback == 'h':\n",
        "            # Move to the left half\n",
        "            if guess - 1 >= low:\n",
        "                heapq.heappush(priority_queue, (cost + 1, low, guess - 1))\n",
        "        elif feedback == 'l':\n",
        "            # Move to the right half\n",
        "            if guess + 1 <= high:\n",
        "                heapq.heappush(priority_queue, (cost + 1, guess + 1, high))\n",
        "\n",
        "uniform_cost_search(1, 100)"
      ],
      "metadata": {
        "id": "rT2uyAhjCXhd",
        "colab": {
          "base_uri": "https://localhost:8080/"
        },
        "outputId": "9c3c5f3d-5c66-47b6-d84a-13928fd0a40d"
      },
      "execution_count": 3,
      "outputs": [
        {
          "output_type": "stream",
          "name": "stdout",
          "text": [
            "Think of a number between 1 and 100, and I (the AI) will try to guess it.\n",
            "AI's guess is: 64\n",
            "Enter 'h' if too high, 'l' if too low, or 'c' if correct: h\n",
            "AI's guess is: 4\n",
            "Enter 'h' if too high, 'l' if too low, or 'c' if correct: l\n",
            "AI's guess is: 12\n",
            "Enter 'h' if too high, 'l' if too low, or 'c' if correct: l\n",
            "AI's guess is: 31\n",
            "Enter 'h' if too high, 'l' if too low, or 'c' if correct: h\n",
            "AI's guess is: 21\n",
            "Enter 'h' if too high, 'l' if too low, or 'c' if correct: c\n",
            "I (AI) guessed the number in 5 attempts!\n"
          ]
        }
      ]
    }
  ]
}
